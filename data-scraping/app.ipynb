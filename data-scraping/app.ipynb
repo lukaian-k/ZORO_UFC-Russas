{
  "cells": [
    {
      "cell_type": "markdown",
      "metadata": {
        "id": "THbLXxeJJBag"
      },
      "source": [
        "# **App Run**"
      ]
    },
    {
      "cell_type": "code",
      "execution_count": null,
      "metadata": {
        "id": "rKLXZwvkDhw5"
      },
      "outputs": [],
      "source": [
        "import json\n",
        "from google.colab import files\n",
        "from bs4 import BeautifulSoup"
      ]
    },
    {
      "cell_type": "code",
      "execution_count": null,
      "metadata": {
        "id": "yiBXHdB4C0Me"
      },
      "outputs": [],
      "source": [
        "class CourseScheduler:\n",
        "\n",
        "    def __init__(self, courses, week_days, time_slots):\n",
        "        self.courses = courses\n",
        "        self.week_days = week_days\n",
        "        self.time_slots = time_slots\n",
        "        self.database = self.create_db()\n",
        "\n",
        "    def create_db(self):\n",
        "        return {course: [] for course in self.courses}\n",
        "\n",
        "    def find_text(self, data, element_type):\n",
        "        elements = data.find_all(element_type)\n",
        "        return [element.text for element in elements if element.text != '']\n",
        "\n",
        "    def create_course(self, name):\n",
        "        return [{\"name_course\": name, \"week_day\": {}}]\n",
        "\n",
        "    def fill_info_course(self, week_day, schedule, data):\n",
        "        return {week_day: {schedule: {\"Unidade\": data[0], \"Sala\": data[1], \"Prof(a)\": data[2]}}}\n",
        "\n",
        "    def process_table_row(self, course_type, name, timetable, info, index):\n",
        "        try:\n",
        "            skip = False\n",
        "\n",
        "            for i, course in enumerate(self.database[course_type]):\n",
        "                if name == course[\"name_course\"]:\n",
        "                    self.database[course_type][i][\"week_day\"].update(\n",
        "                        self.fill_info_course(self.week_days[index-1], timetable, [info[7], info[1], info[2]])\n",
        "                    )\n",
        "                    skip = True\n",
        "                    break\n",
        "\n",
        "            if not skip:\n",
        "                self.database[course_type] += self.create_course(name)\n",
        "                self.database[course_type][-1][\"week_day\"].update(\n",
        "                    self.fill_info_course(self.week_days[index-1], timetable, [info[7], info[1], info[2]])\n",
        "                )\n",
        "\n",
        "        except Exception as e:\n",
        "            print(f\"Erro ao processar uma coluna: {e}\")\n",
        "            print(f'{course_type} | {name} | {timetable} | {info[6]} | {info[0]} | {info[1]} \\n')\n",
        "\n",
        "            for i, course in enumerate(self.database[course_type]):\n",
        "                if name == course[\"name_course\"]:\n",
        "                    self.database[course_type][i][\"week_day\"].update(\n",
        "                        self.fill_info_course(self.week_days[index-1], timetable, [info[6], info[0], info[1]])\n",
        "                    )\n",
        "\n",
        "    def process_html_file(self, html_file):\n",
        "        soup = BeautifulSoup(html_file, 'html.parser')\n",
        "        tables = soup.find_all('table')\n",
        "\n",
        "        for table in tables:\n",
        "            rows = table.find_all('tr', class_='c11')\n",
        "\n",
        "            for row in rows:\n",
        "                columns = row.find_all('td')\n",
        "\n",
        "                for index, column in enumerate(columns):\n",
        "                    if index == 0:\n",
        "                        continue\n",
        "\n",
        "                    span = self.find_text(column, 'span')\n",
        "                    if not span:\n",
        "                        continue\n",
        "\n",
        "                    course_type = span[0][:2]\n",
        "                    name = span[1]\n",
        "                    timetable = columns[0].text\n",
        "                    info = self.find_text(table, 'span')\n",
        "\n",
        "                    self.process_table_row(course_type, name, timetable, info, index)\n",
        "\n",
        "    def save_to_json(self, filename='data.json'):\n",
        "        with open(filename, 'w') as f:\n",
        "            json.dump(self.database, f)"
      ]
    },
    {
      "cell_type": "code",
      "execution_count": null,
      "metadata": {
        "id": "6q8xP0MAHll3"
      },
      "outputs": [],
      "source": [
        "COURSE = ['CC', 'ES', 'EC', 'EP', 'EM']\n",
        "WEEK_DAY = ['Segunda', 'Terça', 'Quarta', 'Quinta', 'Sexta']\n",
        "SCHEDULES = ['8:00-10:00h', '10:00-12:00h', '13:30-15:30h', '15:30-17:30h']"
      ]
    },
    {
      "cell_type": "code",
      "execution_count": null,
      "metadata": {
        "colab": {
          "base_uri": "https://localhost:8080/",
          "height": 73
        },
        "id": "_xfnjyNNH_mI",
        "outputId": "9a1dc354-3ad1-48d9-8a63-eb809b487f51"
      },
      "outputs": [],
      "source": [
        "uploaded = files.upload()\n",
        "name_file = list(uploaded.keys())[0]\n",
        "\n",
        "with open(name_file) as archive:\n",
        "    html_file = archive.read()"
      ]
    },
    {
      "cell_type": "code",
      "execution_count": null,
      "metadata": {
        "id": "rbW-iZ3QHfl5"
      },
      "outputs": [],
      "source": [
        "scheduler = CourseScheduler(COURSE, WEEK_DAY, SCHEDULES)\n",
        "scheduler.process_html_file(html_file)\n",
        "scheduler.save_to_json()"
      ]
    }
  ],
  "metadata": {
    "colab": {
      "provenance": []
    },
    "kernelspec": {
      "display_name": "Python 3",
      "name": "python3"
    },
    "language_info": {
      "name": "python"
    }
  },
  "nbformat": 4,
  "nbformat_minor": 0
}
