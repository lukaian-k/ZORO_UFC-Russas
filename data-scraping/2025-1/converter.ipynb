{
  "nbformat": 4,
  "nbformat_minor": 0,
  "metadata": {
    "colab": {
      "provenance": []
    },
    "kernelspec": {
      "name": "python3",
      "display_name": "Python 3"
    },
    "language_info": {
      "name": "python"
    }
  },
  "cells": [
    {
      "cell_type": "code",
      "execution_count": 2,
      "metadata": {
        "colab": {
          "base_uri": "https://localhost:8080/"
        },
        "id": "G6nDIaPddiYd",
        "outputId": "086c635a-3752-418a-b0ff-09c36e261031"
      },
      "outputs": [
        {
          "output_type": "stream",
          "name": "stdout",
          "text": [
            "Conversão concluída! Verifique o arquivo 'data.json'\n"
          ]
        }
      ],
      "source": [
        "import json\n",
        "from collections import defaultdict\n",
        "\n",
        "\n",
        "def convert_schedule(json_data):\n",
        "    courses = defaultdict(list)\n",
        "\n",
        "    for sala in json_data[\"salas\"]:\n",
        "        unidade = sala[\"unidade\"]\n",
        "        nome_sala = sala[\"nome\"]\n",
        "\n",
        "        for dia, horarios in sala[\"horarios\"].items():\n",
        "            for horario_info in horarios:\n",
        "                horario = horario_info[\"horario\"]\n",
        "                aula = horario_info[\"aula\"]\n",
        "\n",
        "                if \"Almoço\" in aula:\n",
        "                    continue\n",
        "\n",
        "                siglas_cursos = []\n",
        "                for prefix in [\"CC\", \"ES\", \"EC\", \"EP\", \"EM\"]:\n",
        "                    if f\"{prefix}\" in aula.split()[0]:\n",
        "                        siglas_cursos.append(prefix)\n",
        "\n",
        "                if \"/\" in aula.split()[0]:\n",
        "                    combined = aula.split()[0].split(\"/\")\n",
        "                    siglas_cursos = [\n",
        "                        c for c in combined if c in [\"CC\", \"ES\", \"EC\", \"EP\", \"EM\"]\n",
        "                    ]\n",
        "\n",
        "                if not siglas_cursos:\n",
        "                    continue\n",
        "\n",
        "                parts = aula.split(\"(\")\n",
        "                nome_curso_completo = parts[0].strip()\n",
        "                professor = \"(\" + parts[1] if len(parts) > 1 else \"\"\n",
        "\n",
        "                nome_curso = nome_curso_completo\n",
        "                for sigla in siglas_cursos:\n",
        "                    nome_curso = nome_curso.replace(sigla, \"\")\n",
        "\n",
        "                nome_curso = nome_curso.lstrip(\"0123456789/\").strip()\n",
        "\n",
        "                for sigla_curso in siglas_cursos:\n",
        "                    curso_existente = None\n",
        "                    for curso in courses[sigla_curso]:\n",
        "                        if curso[\"name_course\"] == nome_curso:\n",
        "                            curso_existente = curso\n",
        "                            break\n",
        "\n",
        "                    if not curso_existente:\n",
        "                        curso_existente = {\n",
        "                            \"name_course\": nome_curso,\n",
        "                            \"week_day\": defaultdict(dict),\n",
        "                        }\n",
        "                        courses[sigla_curso].append(curso_existente)\n",
        "\n",
        "                    curso_existente[\"week_day\"][dia][horario] = {\n",
        "                        \"Unidade\": unidade,\n",
        "                        \"Sala\": nome_sala,\n",
        "                        \"Prof(a)\": professor,\n",
        "                    }\n",
        "\n",
        "    return dict(courses)\n",
        "\n",
        "\n",
        "with open(\"generated_by_deepseek.json\", \"r\", encoding=\"utf-8\") as f:\n",
        "    original_data = json.load(f)\n",
        "\n",
        "new_format = convert_schedule(original_data)\n",
        "\n",
        "with open(\"data.json\", \"w\", encoding=\"utf-8\") as f:\n",
        "    json.dump(new_format, f, ensure_ascii=False, indent=4)\n",
        "\n",
        "print(\"Conversão concluída! Verifique o arquivo 'data.json'\")\n"
      ]
    }
  ]
}